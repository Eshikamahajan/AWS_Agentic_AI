{
 "cells": [
  {
   "cell_type": "code",
   "execution_count": 1,
   "id": "8a9fd70e",
   "metadata": {},
   "outputs": [
    {
     "name": "stdout",
     "output_type": "stream",
     "text": [
      "hello\n"
     ]
    }
   ],
   "source": [
    "print(\"hello\")"
   ]
  },
  {
   "cell_type": "code",
   "execution_count": null,
   "id": "b51634de",
   "metadata": {},
   "outputs": [],
   "source": [
    "! pip install python-dotenv\n",
    "! pip install langchain langgraph langsmith\n",
    "! pipinstall langchain-groq\n"
   ]
  },
  {
   "cell_type": "code",
   "execution_count": 4,
   "id": "eb6efb12",
   "metadata": {},
   "outputs": [],
   "source": [
    "from dotenv import load_dotenv\n",
    "import os"
   ]
  },
  {
   "cell_type": "code",
   "execution_count": null,
   "id": "66999b1c",
   "metadata": {},
   "outputs": [],
   "source": [
    "#create a .env file with the following content:\n",
    "# groq_api_key=your_groq_api_key_here\n",
    "# langsmith = your_langsmith_api_key_here\n",
    "\n",
    "# Load variables from .env file into environment\n",
    "load_dotenv()"
   ]
  },
  {
   "cell_type": "code",
   "execution_count": 14,
   "id": "be318a29",
   "metadata": {},
   "outputs": [],
   "source": [
    "# Load variables from .env file into environment\n",
    "load_dotenv()\n",
    "\n",
    "# Access them using os.getenv()\n",
    "groq_api_key = os.getenv(\"groq_api_key\")\n",
    "langsmith = os.getenv(\"langsmith_api_key\")\n",
    "\n",
    "# langsmith"
   ]
  },
  {
   "cell_type": "code",
   "execution_count": 13,
   "id": "eff07f3b",
   "metadata": {},
   "outputs": [],
   "source": [
    "os.environ[\"LANGCHAIN_API_KEY\"] = langsmith\n",
    "os.environ[\"LANGCHAIN_TRACING_V2\"]=\"true\"\n",
    "os.environ[\"LANGCHAIN_PROJECT\"]=\"CourseLanggraph\""
   ]
  },
  {
   "cell_type": "code",
   "execution_count": 15,
   "id": "c9d96508",
   "metadata": {},
   "outputs": [],
   "source": [
    "from langchain_groq import ChatGroq\n",
    "\n",
    "llm=ChatGroq(groq_api_key=groq_api_key,model_name=\"Gemma2-9b-It\")\n",
    "# print(llm)"
   ]
  },
  {
   "cell_type": "code",
   "execution_count": 16,
   "id": "b811f58a",
   "metadata": {},
   "outputs": [],
   "source": [
    "\n",
    "from typing import Annotated\n",
    "from typing_extensions import TypedDict\n",
    "from langgraph.graph import StateGraph,START,END\n",
    "from langgraph.graph.message import add_messages"
   ]
  },
  {
   "cell_type": "code",
   "execution_count": 17,
   "id": "50cc53a8",
   "metadata": {},
   "outputs": [],
   "source": [
    "class State(TypedDict):\n",
    "    # Messages have the type \"list\". The `add_messages` function\n",
    "    # in the annotation defines how this state key should be updated\n",
    "    # (in this case, it appends messages to the list, rather than overwriting them)\n",
    "    user_input: str\n",
    "    llm_response: str\n",
    "    result: str"
   ]
  },
  {
   "cell_type": "code",
   "execution_count": 18,
   "id": "2925ac15",
   "metadata": {},
   "outputs": [],
   "source": [
    "def call_llm(state: State) -> State:\n",
    "    prompt = f\"Classify this as a question or statement: {state['user_input']}\"\n",
    "    response = llm.invoke(prompt)\n",
    "    return {\"llm_response\": response.content}"
   ]
  },
  {
   "cell_type": "code",
   "execution_count": 19,
   "id": "ada6cea0",
   "metadata": {},
   "outputs": [],
   "source": [
    "def classify(state: State) -> State:\n",
    "    if \"question\" in state[\"llm_response\"].lower():\n",
    "        return {\"result\": \"I'll try to answer that.\"}\n",
    "    else:\n",
    "        return {\"result\": \"That's a statement.\"}"
   ]
  },
  {
   "cell_type": "code",
   "execution_count": 20,
   "id": "c9f1c478",
   "metadata": {},
   "outputs": [],
   "source": [
    "graph = StateGraph(State)\n",
    "graph.add_node(\"llm\", call_llm)\n",
    "graph.add_node(\"classify\", classify)\n",
    "graph.set_entry_point(\"llm\")\n",
    "graph.add_edge(\"llm\", \"classify\")\n",
    "graph.set_finish_point(\"classify\")\n",
    "\n",
    "compiled=graph.compile()"
   ]
  },
  {
   "cell_type": "code",
   "execution_count": 22,
   "id": "b7c8cc4e",
   "metadata": {},
   "outputs": [
    {
     "name": "stdout",
     "output_type": "stream",
     "text": [
      "Assistant: I'll try to answer that.\n"
     ]
    }
   ],
   "source": [
    "user_input = input(\"You: \")\n",
    "result = compiled.invoke({\"user_input\": user_input})\n",
    "print(\"Assistant:\", result[\"result\"])\n",
    "\n",
    "with open(\"langraph_graphs/SimpleLangraph.png\", \"wb\") as f:\n",
    "    f.write(compiled.get_graph().draw_mermaid_png())"
   ]
  },
  {
   "cell_type": "code",
   "execution_count": null,
   "id": "cba1b6bf",
   "metadata": {},
   "outputs": [],
   "source": []
  }
 ],
 "metadata": {
  "kernelspec": {
   "display_name": "virtuaL",
   "language": "python",
   "name": "python3"
  },
  "language_info": {
   "codemirror_mode": {
    "name": "ipython",
    "version": 3
   },
   "file_extension": ".py",
   "mimetype": "text/x-python",
   "name": "python",
   "nbconvert_exporter": "python",
   "pygments_lexer": "ipython3",
   "version": "3.13.3"
  }
 },
 "nbformat": 4,
 "nbformat_minor": 5
}
