{
 "cells": [
  {
   "cell_type": "code",
   "execution_count": 4,
   "id": "663aca04",
   "metadata": {},
   "outputs": [],
   "source": [
    "# !pip install boto3\n",
    "# !pip install opencv-python\n",
    "# !pip install pandas"
   ]
  },
  {
   "cell_type": "code",
   "execution_count": null,
   "id": "6231f1ef",
   "metadata": {},
   "outputs": [],
   "source": [
    "\n",
    "import pandas as pd\n",
    "import boto3\n",
    "import cv2\n",
    "from botocore.exceptions import ClientError"
   ]
  },
  {
   "cell_type": "code",
   "execution_count": null,
   "id": "2895a821",
   "metadata": {},
   "outputs": [],
   "source": [
    "# FIRSTT CREATE A USER AND DOWNLOAD THE ACCESS KEYS\n",
    "credential = pd.read_csv(\"aws-event/aws-event_accessKeys.csv\")\n",
    "access_key_id = credential['Access key ID'][0]\n",
    "secret_access_key = credential['Secret access key'][0]"
   ]
  },
  {
   "cell_type": "code",
   "execution_count": null,
   "id": "39bdb88f",
   "metadata": {},
   "outputs": [],
   "source": [
    "rekognition = boto3.client('rekognition', aws_access_key_id=access_key_id, aws_secret_access_key=secret_access_key,  region_name=\"us-east-1\")\n"
   ]
  },
  {
   "cell_type": "code",
   "execution_count": null,
   "id": "fa9102fd",
   "metadata": {},
   "outputs": [],
   "source": [
    "image_bytes= \"\"\n",
    "detected_text = []\n",
    "detected_label = []\n",
    "\n",
    "def load_image(image_path = \"aws-event/assets/2.jpg\"):\n",
    "    # Load image bytes\n",
    "    with open(image_path, \"rb\") as img_file:\n",
    "        image_bytes = img_file.read()\n",
    "    return image_bytes"
   ]
  },
  {
   "cell_type": "code",
   "execution_count": null,
   "id": "350284e3",
   "metadata": {},
   "outputs": [],
   "source": [
    "def get_detected_text(image_bytes):\n",
    "    # ---- 1. Detect Text ----\n",
    "    text_response = rekognition.detect_text(Image={\"Bytes\": image_bytes})\n",
    "    # print(\"=== Detected Text ===\")\n",
    "    for item in text_response[\"TextDetections\"]:\n",
    "        if item[\"Type\"] == \"LINE\":\n",
    "            # print(f\"Text: {item['DetectedText']} (Confidence: {item['Confidence']:.2f}%)\")\n",
    "            detected_text.append((item['DetectedText'], str(item['Confidence'])))\n",
    "    return detected_text\n"
   ]
  },
  {
   "cell_type": "code",
   "execution_count": null,
   "id": "40c31d4b",
   "metadata": {},
   "outputs": [],
   "source": [
    "def get_detected_label(image_bytes):\n",
    "    # ---- 2. Detect Labels ----\n",
    "    label_response = rekognition.detect_labels(Image={\"Bytes\": image_bytes}, MaxLabels=10)\n",
    "    # print(\"\\n=== Detected Labels ===\")\n",
    "    for label in label_response[\"Labels\"]:\n",
    "        # print(f\"Label: {label['Name']} (Confidence: {label['Confidence']:.2f}%)\")\n",
    "        detected_label.append((label['Name'], str(label['Confidence'])))\n",
    "    return detected_label\n"
   ]
  },
  {
   "cell_type": "code",
   "execution_count": null,
   "id": "ffeee45b",
   "metadata": {},
   "outputs": [],
   "source": [
    "# LOAD THE IMAGE\n",
    "image_bytes = load_image()\n",
    "\n",
    "# GET DETECTED TEXT AND LABELS\n",
    "detected_text = get_detected_label(image_bytes)\n",
    "detected_label = get_detected_label(image_bytes)"
   ]
  },
  {
   "cell_type": "code",
   "execution_count": null,
   "id": "13f1739c",
   "metadata": {},
   "outputs": [],
   "source": [
    "detected_text"
   ]
  },
  {
   "cell_type": "code",
   "execution_count": null,
   "id": "eb7666d5",
   "metadata": {},
   "outputs": [],
   "source": [
    "detected_label"
   ]
  }
 ],
 "metadata": {
  "kernelspec": {
   "display_name": "virtuaL",
   "language": "python",
   "name": "python3"
  },
  "language_info": {
   "codemirror_mode": {
    "name": "ipython",
    "version": 3
   },
   "file_extension": ".py",
   "mimetype": "text/x-python",
   "name": "python",
   "nbconvert_exporter": "python",
   "pygments_lexer": "ipython3",
   "version": "3.13.3"
  }
 },
 "nbformat": 4,
 "nbformat_minor": 5
}
